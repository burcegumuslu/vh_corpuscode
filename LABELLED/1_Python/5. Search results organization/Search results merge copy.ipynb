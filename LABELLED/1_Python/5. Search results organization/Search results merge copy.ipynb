{
 "cells": [
  {
   "cell_type": "code",
   "execution_count": 8,
   "id": "e9c6693f",
   "metadata": {},
   "outputs": [],
   "source": [
    "import os, json\n",
    "\n",
    "subcorpora = {\"PS\", \"TS\", \"SE\"}\n",
    "    \n",
    "combined_list = []\n",
    "\n",
    "\n",
    "def combine_search_results(subcorpus):\n",
    "    input_dir = f\"../../4_Searches/MERGED/{subcorpus}\"\n",
    "    for filename in os.listdir(input_dir):\n",
    "        path = os.path.join(input_dir, filename)\n",
    "        print(path)\n",
    "        if \"json\" in filename:\n",
    "            with open(path, 'r') as f:\n",
    "                search_engine_results = json.load(f)\n",
    "                print(\"search_engine_results len: \", len(search_engine_results))\n",
    "            for search_engine_result in search_engine_results:\n",
    "                domain = search_engine_result['domain']\n",
    "                results = search_engine_result['results']\n",
    "                key_word = search_engine_result['keyword']\n",
    "                for result in results:\n",
    "                    if any( combined_list[i]['URL'] == result for i in range(len(combined_list))):\n",
    "                        for i in range(len(combined_list)):\n",
    "                            if combined_list[i]['URL'] == result and key_word not in combined_list[i]['keyword']:\n",
    "                                combined_list[i]['keyword'].append(key_word)\n",
    "                    else: \n",
    "                        result.update({'keyword' : [key_word]})\n",
    "                    combined_list.append(result)\n",
    "        print(\"combined list len: \", len(combined_list))\n",
    "        \n",
    "        with open(f'../../4_Searches/FINAL/{subcorpus}_search_results_for_scrape.json', 'w+') as f:\n",
    "            json.dump(combined_list, f)\n",
    "\n",
    "\n"
   ]
  },
  {
   "cell_type": "code",
   "execution_count": 9,
   "id": "7cad4e13",
   "metadata": {},
   "outputs": [
    {
     "name": "stdout",
     "output_type": "stream",
     "text": [
      "../../4_Searches/MERGED/TS/MNTT_merged_search_results.json\n",
      "search_engine_results len:  38\n",
      "combined list len:  2986\n",
      "../../4_Searches/MERGED/TS/MARO_merged_search_results.json\n",
      "search_engine_results len:  38\n",
      "combined list len:  4485\n",
      "../../4_Searches/MERGED/TS/MAYU_merged_search_results.json\n",
      "search_engine_results len:  38\n",
      "combined list len:  6070\n",
      "../../4_Searches/MERGED/TS/MCHI_merged_search_results.json\n",
      "search_engine_results len:  38\n",
      "combined list len:  9077\n",
      "../../4_Searches/MERGED/TS/VAL_merged_search_results.json\n",
      "search_engine_results len:  38\n",
      "combined list len:  11982\n",
      "../../4_Searches/MERGED/TS/VIS_merged_search_results.json\n",
      "search_engine_results len:  38\n",
      "combined list len:  14216\n",
      "../../4_Searches/MERGED/TS/VCO_merged_search_results.json\n",
      "search_engine_results len:  38\n",
      "combined list len:  16534\n",
      "../../4_Searches/MERGED/TS/MOST_merged_search_results.json\n",
      "search_engine_results len:  38\n",
      "combined list len:  17642\n",
      "../../4_Searches/MERGED/TS/VEF_merged_search_results.json\n",
      "search_engine_results len:  38\n",
      "combined list len:  20513\n",
      "../../4_Searches/MERGED/TS/MHOM_merged_search_results.json\n",
      "search_engine_results len:  38\n",
      "combined list len:  22165\n",
      "../../4_Searches/MERGED/TS/MANT_merged_search_results.json\n",
      "search_engine_results len:  38\n",
      "combined list len:  23527\n",
      "../../4_Searches/MERGED/TS/VAU_merged_search_results.json\n",
      "search_engine_results len:  32\n",
      "combined list len:  25492\n",
      "../../4_Searches/MERGED/TS/MSHC_merged_search_results.json\n",
      "search_engine_results len:  38\n",
      "combined list len:  26959\n",
      "../../4_Searches/MERGED/TS/MHOH_merged_search_results.json\n",
      "search_engine_results len:  38\n",
      "combined list len:  28881\n",
      "../../4_Searches/MERGED/TS/MVAP_merged_search_results.json\n",
      "search_engine_results len:  38\n",
      "combined list len:  31483\n",
      "../../4_Searches/MERGED/TS/MVCT_merged_search_results.json\n",
      "search_engine_results len:  38\n",
      "combined list len:  34398\n",
      "../../4_Searches/MERGED/TS/MTNI_merged_search_results.json\n",
      "search_engine_results len:  38\n",
      "combined list len:  36924\n",
      "../../4_Searches/MERGED/TS/VAI_merged_search_results.json\n",
      "search_engine_results len:  38\n",
      "combined list len:  38916\n",
      "../../4_Searches/MERGED/TS/MNAT_merged_search_results.json\n",
      "search_engine_results len:  38\n",
      "combined list len:  40232\n",
      "../../4_Searches/MERGED/TS/VSE_merged_search_results.json\n",
      "search_engine_results len:  38\n",
      "combined list len:  42009\n",
      "../../4_Searches/MERGED/TS/MTOX_merged_search_results.json\n",
      "search_engine_results len:  38\n",
      "combined list len:  44894\n",
      "../../4_Searches/MERGED/TS/VAS_merged_search_results.json\n",
      "search_engine_results len:  38\n",
      "combined list len:  47745\n",
      "../../4_Searches/MERGED/TS/MHER_merged_search_results.json\n",
      "search_engine_results len:  38\n",
      "combined list len:  49800\n",
      "../../4_Searches/MERGED/TS/MBIS_merged_search_results.json\n",
      "search_engine_results len:  38\n",
      "combined list len:  52760\n",
      "../../4_Searches/MERGED/TS/MNIM_merged_search_results.json\n",
      "search_engine_results len:  38\n",
      "combined list len:  55055\n",
      "../../4_Searches/MERGED/TS/VAC_merged_search_results.json\n",
      "search_engine_results len:  38\n",
      "combined list len:  57385\n"
     ]
    }
   ],
   "source": [
    "subcorpus = \"TS\"\n",
    "\n",
    "combine_search_results(subcorpus)\n"
   ]
  },
  {
   "cell_type": "code",
   "execution_count": null,
   "id": "7315928c",
   "metadata": {},
   "outputs": [],
   "source": [
    "subcorpus = \"PS\"\n",
    "\n",
    "combine_search_results(subcorpus)"
   ]
  },
  {
   "cell_type": "code",
   "execution_count": null,
   "id": "5dab44e5",
   "metadata": {},
   "outputs": [],
   "source": [
    "subcorpus = \"SE\"\n",
    "\n",
    "combine_search_results(subcorpus)"
   ]
  },
  {
   "cell_type": "code",
   "execution_count": null,
   "id": "305892e1",
   "metadata": {},
   "outputs": [],
   "source": []
  },
  {
   "cell_type": "code",
   "execution_count": null,
   "id": "e04a7a78",
   "metadata": {},
   "outputs": [],
   "source": []
  },
  {
   "cell_type": "code",
   "execution_count": null,
   "id": "a0989679",
   "metadata": {},
   "outputs": [],
   "source": []
  },
  {
   "cell_type": "code",
   "execution_count": null,
   "id": "f12e7bb1",
   "metadata": {},
   "outputs": [],
   "source": []
  },
  {
   "cell_type": "code",
   "execution_count": null,
   "id": "86c28bd5",
   "metadata": {},
   "outputs": [],
   "source": []
  },
  {
   "cell_type": "code",
   "execution_count": null,
   "id": "41919152",
   "metadata": {},
   "outputs": [],
   "source": [
    "\n",
    "            \n",
    "\n",
    "    \n",
    "    "
   ]
  },
  {
   "cell_type": "code",
   "execution_count": null,
   "id": "97bec561",
   "metadata": {},
   "outputs": [],
   "source": []
  },
  {
   "cell_type": "code",
   "execution_count": null,
   "id": "de41f18f",
   "metadata": {},
   "outputs": [],
   "source": [
    "\n",
    "\n"
   ]
  },
  {
   "cell_type": "code",
   "execution_count": null,
   "id": "fa65d3c7",
   "metadata": {},
   "outputs": [],
   "source": []
  },
  {
   "cell_type": "code",
   "execution_count": null,
   "id": "eca71f9f",
   "metadata": {},
   "outputs": [],
   "source": []
  },
  {
   "cell_type": "code",
   "execution_count": null,
   "id": "9d7e7971",
   "metadata": {},
   "outputs": [],
   "source": []
  },
  {
   "cell_type": "code",
   "execution_count": null,
   "id": "370f503f",
   "metadata": {},
   "outputs": [],
   "source": []
  },
  {
   "cell_type": "code",
   "execution_count": null,
   "id": "114bb81e",
   "metadata": {},
   "outputs": [],
   "source": []
  },
  {
   "cell_type": "code",
   "execution_count": null,
   "id": "cd8ab1fa",
   "metadata": {
    "scrolled": false
   },
   "outputs": [],
   "source": []
  },
  {
   "cell_type": "code",
   "execution_count": null,
   "id": "a3ae1880",
   "metadata": {},
   "outputs": [],
   "source": []
  },
  {
   "cell_type": "code",
   "execution_count": null,
   "id": "54a3d9ec",
   "metadata": {},
   "outputs": [],
   "source": []
  },
  {
   "cell_type": "code",
   "execution_count": null,
   "id": "5d2d266e",
   "metadata": {},
   "outputs": [],
   "source": []
  },
  {
   "cell_type": "code",
   "execution_count": null,
   "id": "a6f778dc",
   "metadata": {},
   "outputs": [],
   "source": []
  }
 ],
 "metadata": {
  "kernelspec": {
   "display_name": "Python 3 (ipykernel)",
   "language": "python",
   "name": "python3"
  },
  "language_info": {
   "codemirror_mode": {
    "name": "ipython",
    "version": 3
   },
   "file_extension": ".py",
   "mimetype": "text/x-python",
   "name": "python",
   "nbconvert_exporter": "python",
   "pygments_lexer": "ipython3",
   "version": "3.10.11"
  }
 },
 "nbformat": 4,
 "nbformat_minor": 5
}
