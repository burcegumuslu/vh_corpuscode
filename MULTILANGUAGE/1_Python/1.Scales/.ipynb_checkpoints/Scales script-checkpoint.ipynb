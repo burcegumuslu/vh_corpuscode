{
 "cells": [
  {
   "cell_type": "code",
   "execution_count": 18,
   "id": "cdd59b57",
   "metadata": {},
   "outputs": [],
   "source": [
    "d = open('survey scales.txt', 'r') \n",
    "text = d.read()"
   ]
  },
  {
   "cell_type": "code",
   "execution_count": 19,
   "id": "f15676c2",
   "metadata": {
    "scrolled": true
   },
   "outputs": [
    {
     "name": "stdout",
     "output_type": "stream",
     "text": [
      "\n",
      "complete\n"
     ]
    }
   ],
   "source": [
    "print(d.read())\n",
    "\n",
    "print('complete')"
   ]
  },
  {
   "cell_type": "code",
   "execution_count": 17,
   "id": "2af9f1de",
   "metadata": {},
   "outputs": [],
   "source": [
    "d.close()"
   ]
  },
  {
   "cell_type": "code",
   "execution_count": null,
   "id": "8cfb8e13",
   "metadata": {},
   "outputs": [],
   "source": []
  }
 ],
 "metadata": {
  "kernelspec": {
   "display_name": "Python 3 (ipykernel)",
   "language": "python",
   "name": "python3"
  },
  "language_info": {
   "codemirror_mode": {
    "name": "ipython",
    "version": 3
   },
   "file_extension": ".py",
   "mimetype": "text/x-python",
   "name": "python",
   "nbconvert_exporter": "python",
   "pygments_lexer": "ipython3",
   "version": "3.10.11"
  }
 },
 "nbformat": 4,
 "nbformat_minor": 5
}
